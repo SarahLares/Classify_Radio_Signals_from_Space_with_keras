{
  "nbformat": 4,
  "nbformat_minor": 0,
  "metadata": {
    "colab": {
      "name": "Classify_Radio_Signals_from_Space-keras.ipynb",
      "provenance": [],
      "collapsed_sections": [],
      "toc_visible": true,
      "include_colab_link": true
    },
    "kernelspec": {
      "name": "python3",
      "display_name": "Python 3"
    }
  },
  "cells": [
    {
      "cell_type": "markdown",
      "metadata": {
        "id": "view-in-github",
        "colab_type": "text"
      },
      "source": [
        "<a href=\"https://colab.research.google.com/github/SarahLares/Classify_Radio_Signals_from_Space_with_keras/blob/master/Classify_Radio_Signals_from_Space_keras.ipynb\" target=\"_parent\"><img src=\"https://colab.research.google.com/assets/colab-badge.svg\" alt=\"Open In Colab\"/></a>"
      ]
    },
    {
      "cell_type": "markdown",
      "metadata": {
        "id": "KeHZOb76Eoao",
        "colab_type": "text"
      },
      "source": [
        "## Classify Radio Signals from Space with Keras"
      ]
    },
    {
      "cell_type": "markdown",
      "metadata": {
        "id": "ZDjrHhjQuRq9",
        "colab_type": "text"
      },
      "source": [
        "We use 2D Spectrograms of deep-space radio signals collected by the antennas at the SETI institute.\n",
        "\n",
        "The SETI Institute is a non-profit research organization whose mission is to explore, understand, and explain the origin and nature of life in the universe, and apply the knowledge gained to inspire and guide present and future generations. Their goal is the discovery and exchange of knowledge as scientific ambassadors for the public, the press and the government. SETI stands for \"search for extraterrestrial intelligence\".\n",
        "\n",
        "The Allen Telescope Array (also abbreviated as ATA) represents the joint effort of the SETI Institute and the Radio Astronomy Laboratory at the University of California, Berkeley to build an interferometry radio telescope (or \"radiointerferometer\") that is dedicated to both astronomical observations and the simultaneous search for Extraterrestrial Intelligence.\n",
        "\n",
        "The ATA is currently under construction at the Hat Creek Astronomical Observatory, 450 kilometers from San Francisco, California. When finished, it will consist of 350 antennas. The first phase with 42 antennas (ATA-42) is already complete and began operating on October 11, 2007.\n",
        "\n",
        "The goal of the ATA is to search for faint but persistent signals.\n",
        "\n",
        "The current signal detection system is programmed for only particular kinds of signals such as narrow-band carrier waves however, the detection system sometimes triggers the signals that are not narrow-band signals with some unknown efficiency and are also not explicitly known frequency interference. So there seem to be various categories of these kinds of events that have been observed in the recent past so our goal is to build an image classification model to classify these signals accurately.\n",
        "\n",
        "So the original signals were not 2-D spectrograms but were time-series data collected and downloaded by [SETI](https://www.seti.org/). We’re going to work with 2-D spectrograms which were created by transforming the input time-series data. So we’re going to use the spectrograms as images to train or classification model."
      ]
    },
    {
      "cell_type": "markdown",
      "metadata": {
        "id": "fB2voc0SFB0W",
        "colab_type": "text"
      },
      "source": [
        "## First, We Import Libraries"
      ]
    },
    {
      "cell_type": "code",
      "metadata": {
        "id": "9bnOhyzf5oEo",
        "colab_type": "code",
        "colab": {
          "base_uri": "https://localhost:8080/",
          "height": 547
        },
        "outputId": "60357b18-7e38-49ec-95ab-e1e3c4c44ae4"
      },
      "source": [
        "!pip3 install livelossplot"
      ],
      "execution_count": 91,
      "outputs": [
        {
          "output_type": "stream",
          "text": [
            "Collecting livelossplot\n",
            "  Downloading https://files.pythonhosted.org/packages/45/59/1e00dce77cacd9cd6038609809ee3666f6ba46953d2d1862637506b7c5d7/livelossplot-0.5.1-py3-none-any.whl\n",
            "Requirement already satisfied: ipython in /usr/local/lib/python3.6/dist-packages (from livelossplot) (5.5.0)\n",
            "Requirement already satisfied: matplotlib; python_version >= \"3.6\" in /usr/local/lib/python3.6/dist-packages (from livelossplot) (3.2.2)\n",
            "Requirement already satisfied: bokeh; python_version >= \"3.6\" in /usr/local/lib/python3.6/dist-packages (from livelossplot) (1.4.0)\n",
            "Requirement already satisfied: decorator in /usr/local/lib/python3.6/dist-packages (from ipython->livelossplot) (4.4.2)\n",
            "Requirement already satisfied: pygments in /usr/local/lib/python3.6/dist-packages (from ipython->livelossplot) (2.1.3)\n",
            "Requirement already satisfied: pexpect; sys_platform != \"win32\" in /usr/local/lib/python3.6/dist-packages (from ipython->livelossplot) (4.8.0)\n",
            "Requirement already satisfied: pickleshare in /usr/local/lib/python3.6/dist-packages (from ipython->livelossplot) (0.7.5)\n",
            "Requirement already satisfied: setuptools>=18.5 in /usr/local/lib/python3.6/dist-packages (from ipython->livelossplot) (47.3.1)\n",
            "Requirement already satisfied: simplegeneric>0.8 in /usr/local/lib/python3.6/dist-packages (from ipython->livelossplot) (0.8.1)\n",
            "Requirement already satisfied: traitlets>=4.2 in /usr/local/lib/python3.6/dist-packages (from ipython->livelossplot) (4.3.3)\n",
            "Requirement already satisfied: prompt-toolkit<2.0.0,>=1.0.4 in /usr/local/lib/python3.6/dist-packages (from ipython->livelossplot) (1.0.18)\n",
            "Requirement already satisfied: pyparsing!=2.0.4,!=2.1.2,!=2.1.6,>=2.0.1 in /usr/local/lib/python3.6/dist-packages (from matplotlib; python_version >= \"3.6\"->livelossplot) (2.4.7)\n",
            "Requirement already satisfied: python-dateutil>=2.1 in /usr/local/lib/python3.6/dist-packages (from matplotlib; python_version >= \"3.6\"->livelossplot) (2.8.1)\n",
            "Requirement already satisfied: kiwisolver>=1.0.1 in /usr/local/lib/python3.6/dist-packages (from matplotlib; python_version >= \"3.6\"->livelossplot) (1.2.0)\n",
            "Requirement already satisfied: cycler>=0.10 in /usr/local/lib/python3.6/dist-packages (from matplotlib; python_version >= \"3.6\"->livelossplot) (0.10.0)\n",
            "Requirement already satisfied: numpy>=1.11 in /usr/local/lib/python3.6/dist-packages (from matplotlib; python_version >= \"3.6\"->livelossplot) (1.18.5)\n",
            "Requirement already satisfied: packaging>=16.8 in /usr/local/lib/python3.6/dist-packages (from bokeh; python_version >= \"3.6\"->livelossplot) (20.4)\n",
            "Requirement already satisfied: Jinja2>=2.7 in /usr/local/lib/python3.6/dist-packages (from bokeh; python_version >= \"3.6\"->livelossplot) (2.11.2)\n",
            "Requirement already satisfied: pillow>=4.0 in /usr/local/lib/python3.6/dist-packages (from bokeh; python_version >= \"3.6\"->livelossplot) (7.0.0)\n",
            "Requirement already satisfied: tornado>=4.3 in /usr/local/lib/python3.6/dist-packages (from bokeh; python_version >= \"3.6\"->livelossplot) (4.5.3)\n",
            "Requirement already satisfied: six>=1.5.2 in /usr/local/lib/python3.6/dist-packages (from bokeh; python_version >= \"3.6\"->livelossplot) (1.12.0)\n",
            "Requirement already satisfied: PyYAML>=3.10 in /usr/local/lib/python3.6/dist-packages (from bokeh; python_version >= \"3.6\"->livelossplot) (3.13)\n",
            "Requirement already satisfied: ptyprocess>=0.5 in /usr/local/lib/python3.6/dist-packages (from pexpect; sys_platform != \"win32\"->ipython->livelossplot) (0.6.0)\n",
            "Requirement already satisfied: ipython-genutils in /usr/local/lib/python3.6/dist-packages (from traitlets>=4.2->ipython->livelossplot) (0.2.0)\n",
            "Requirement already satisfied: wcwidth in /usr/local/lib/python3.6/dist-packages (from prompt-toolkit<2.0.0,>=1.0.4->ipython->livelossplot) (0.2.4)\n",
            "Requirement already satisfied: MarkupSafe>=0.23 in /usr/local/lib/python3.6/dist-packages (from Jinja2>=2.7->bokeh; python_version >= \"3.6\"->livelossplot) (1.1.1)\n",
            "Installing collected packages: livelossplot\n",
            "Successfully installed livelossplot-0.5.1\n"
          ],
          "name": "stdout"
        }
      ]
    },
    {
      "cell_type": "code",
      "metadata": {
        "id": "2pO03vSBEc6D",
        "colab_type": "code",
        "colab": {}
      },
      "source": [
        "import pandas as pd\n",
        "import numpy as np\n",
        "import matplotlib.pyplot as plt\n",
        "\n",
        "from livelossplot.tf_keras import PlotLossesCallback\n",
        "import tensorflow as tf\n",
        "import keras\n",
        "\n",
        "\n",
        "from sklearn.metrics import confusion_matrix\n",
        "from sklearn import metrics\n",
        "\n",
        "import numpy as np\n",
        "np.random.seed(42)\n",
        "import warnings;warnings.simplefilter('ignore')\n",
        "\n",
        "%matplotlib inline\n"
      ],
      "execution_count": 102,
      "outputs": []
    },
    {
      "cell_type": "markdown",
      "metadata": {
        "id": "lYt4AvyeFJPn",
        "colab_type": "text"
      },
      "source": [
        "## Load and Preprocess SETI Data"
      ]
    },
    {
      "cell_type": "markdown",
      "metadata": {
        "id": "whIChlmH8B3o",
        "colab_type": "text"
      },
      "source": [
        "we have two data sets, one for the train (3200 images an labels) and other for the validation (800 images an labels). Each set have two files, the images.csv contains the spectrograph images their raw pixel intensity values ​​and are normalized so that the values ​​are between 0 and 1. They are then converted to a matrix by stretching them. Therefore, each row in the CSV file corresponds to a single image.\n",
        "\n",
        "The labels.csv file contain the class for each image, so each row correspond to a image.\n",
        "\n",
        "The label were found to be one hot encoded in to a vector of 1,4 dimension\n",
        "(no. of classes).\n",
        "\n",
        "The four types of signals are:\n",
        "\n",
        "* Squiggle\n",
        "* Narrow-band\n",
        "* Noise\n",
        "* Narrow-band-drd"
      ]
    },
    {
      "cell_type": "code",
      "metadata": {
        "id": "XLeSTtPX7z2S",
        "colab_type": "code",
        "colab": {
          "base_uri": "https://localhost:8080/",
          "height": 153
        },
        "outputId": "f5475e26-22ee-4e17-93aa-f1cc3c8d3e03"
      },
      "source": [
        "!unzip dataset"
      ],
      "execution_count": 6,
      "outputs": [
        {
          "output_type": "stream",
          "text": [
            "Archive:  dataset.zip\n",
            "   creating: dataset/\n",
            "   creating: dataset/train/\n",
            "  inflating: dataset/train/images.csv  \n",
            "  inflating: dataset/train/labels.csv  \n",
            "   creating: dataset/validation/\n",
            "  inflating: dataset/validation/images.csv  \n",
            "  inflating: dataset/validation/labels.csv  \n"
          ],
          "name": "stdout"
        }
      ]
    },
    {
      "cell_type": "code",
      "metadata": {
        "id": "oDubuBkZEgaE",
        "colab_type": "code",
        "colab": {}
      },
      "source": [
        "train_images = pd.read_csv('dataset/train/images.csv', header=None)\n",
        "train_labels = pd.read_csv('dataset/train/labels.csv', names=['Squiggle','Narrow-band','Noise','Narrow-band-drd'])\n",
        "\n",
        "val_images = pd.read_csv('dataset/validation/images.csv', header=None)\n",
        "val_labels = pd.read_csv('dataset/validation/labels.csv', names=['Squiggle','Narrow-band','Noise','Narrow-band-drd'])"
      ],
      "execution_count": 74,
      "outputs": []
    },
    {
      "cell_type": "markdown",
      "metadata": {
        "id": "T5MV6PSvmKcM",
        "colab_type": "text"
      },
      "source": [
        "We load the data into dataframes with the function from pandas *read_csv()*, the parameter *head=None* specify that the data don't require a header in the table images. "
      ]
    },
    {
      "cell_type": "code",
      "metadata": {
        "id": "VVISghQ3Egcd",
        "colab_type": "code",
        "colab": {
          "base_uri": "https://localhost:8080/",
          "height": 253
        },
        "outputId": "915a1cb9-fd8e-48f4-bdd9-816ad0ceafe2"
      },
      "source": [
        "train_images.head()"
      ],
      "execution_count": 20,
      "outputs": [
        {
          "output_type": "execute_result",
          "data": {
            "text/html": [
              "<div>\n",
              "<style scoped>\n",
              "    .dataframe tbody tr th:only-of-type {\n",
              "        vertical-align: middle;\n",
              "    }\n",
              "\n",
              "    .dataframe tbody tr th {\n",
              "        vertical-align: top;\n",
              "    }\n",
              "\n",
              "    .dataframe thead th {\n",
              "        text-align: right;\n",
              "    }\n",
              "</style>\n",
              "<table border=\"1\" class=\"dataframe\">\n",
              "  <thead>\n",
              "    <tr style=\"text-align: right;\">\n",
              "      <th></th>\n",
              "      <th>0</th>\n",
              "      <th>1</th>\n",
              "      <th>2</th>\n",
              "      <th>3</th>\n",
              "      <th>4</th>\n",
              "      <th>5</th>\n",
              "      <th>6</th>\n",
              "      <th>7</th>\n",
              "      <th>8</th>\n",
              "      <th>9</th>\n",
              "      <th>10</th>\n",
              "      <th>11</th>\n",
              "      <th>12</th>\n",
              "      <th>13</th>\n",
              "      <th>14</th>\n",
              "      <th>15</th>\n",
              "      <th>16</th>\n",
              "      <th>17</th>\n",
              "      <th>18</th>\n",
              "      <th>19</th>\n",
              "      <th>20</th>\n",
              "      <th>21</th>\n",
              "      <th>22</th>\n",
              "      <th>23</th>\n",
              "      <th>24</th>\n",
              "      <th>25</th>\n",
              "      <th>26</th>\n",
              "      <th>27</th>\n",
              "      <th>28</th>\n",
              "      <th>29</th>\n",
              "      <th>30</th>\n",
              "      <th>31</th>\n",
              "      <th>32</th>\n",
              "      <th>33</th>\n",
              "      <th>34</th>\n",
              "      <th>35</th>\n",
              "      <th>36</th>\n",
              "      <th>37</th>\n",
              "      <th>38</th>\n",
              "      <th>39</th>\n",
              "      <th>...</th>\n",
              "      <th>8152</th>\n",
              "      <th>8153</th>\n",
              "      <th>8154</th>\n",
              "      <th>8155</th>\n",
              "      <th>8156</th>\n",
              "      <th>8157</th>\n",
              "      <th>8158</th>\n",
              "      <th>8159</th>\n",
              "      <th>8160</th>\n",
              "      <th>8161</th>\n",
              "      <th>8162</th>\n",
              "      <th>8163</th>\n",
              "      <th>8164</th>\n",
              "      <th>8165</th>\n",
              "      <th>8166</th>\n",
              "      <th>8167</th>\n",
              "      <th>8168</th>\n",
              "      <th>8169</th>\n",
              "      <th>8170</th>\n",
              "      <th>8171</th>\n",
              "      <th>8172</th>\n",
              "      <th>8173</th>\n",
              "      <th>8174</th>\n",
              "      <th>8175</th>\n",
              "      <th>8176</th>\n",
              "      <th>8177</th>\n",
              "      <th>8178</th>\n",
              "      <th>8179</th>\n",
              "      <th>8180</th>\n",
              "      <th>8181</th>\n",
              "      <th>8182</th>\n",
              "      <th>8183</th>\n",
              "      <th>8184</th>\n",
              "      <th>8185</th>\n",
              "      <th>8186</th>\n",
              "      <th>8187</th>\n",
              "      <th>8188</th>\n",
              "      <th>8189</th>\n",
              "      <th>8190</th>\n",
              "      <th>8191</th>\n",
              "    </tr>\n",
              "  </thead>\n",
              "  <tbody>\n",
              "    <tr>\n",
              "      <th>0</th>\n",
              "      <td>0.631373</td>\n",
              "      <td>0.623529</td>\n",
              "      <td>0.713726</td>\n",
              "      <td>0.705882</td>\n",
              "      <td>0.658824</td>\n",
              "      <td>0.666667</td>\n",
              "      <td>0.654902</td>\n",
              "      <td>0.635294</td>\n",
              "      <td>0.647059</td>\n",
              "      <td>0.705882</td>\n",
              "      <td>0.729412</td>\n",
              "      <td>0.725490</td>\n",
              "      <td>0.619608</td>\n",
              "      <td>0.674510</td>\n",
              "      <td>0.643137</td>\n",
              "      <td>0.705882</td>\n",
              "      <td>0.713726</td>\n",
              "      <td>0.658824</td>\n",
              "      <td>0.615686</td>\n",
              "      <td>0.690196</td>\n",
              "      <td>0.654902</td>\n",
              "      <td>0.525490</td>\n",
              "      <td>0.556863</td>\n",
              "      <td>0.541176</td>\n",
              "      <td>0.482353</td>\n",
              "      <td>0.588235</td>\n",
              "      <td>0.615686</td>\n",
              "      <td>0.600000</td>\n",
              "      <td>0.603922</td>\n",
              "      <td>0.627451</td>\n",
              "      <td>0.678431</td>\n",
              "      <td>0.658824</td>\n",
              "      <td>0.698039</td>\n",
              "      <td>0.576471</td>\n",
              "      <td>0.678431</td>\n",
              "      <td>0.686275</td>\n",
              "      <td>0.690196</td>\n",
              "      <td>0.705882</td>\n",
              "      <td>0.705882</td>\n",
              "      <td>0.643137</td>\n",
              "      <td>...</td>\n",
              "      <td>0.650980</td>\n",
              "      <td>0.666667</td>\n",
              "      <td>0.666667</td>\n",
              "      <td>0.709804</td>\n",
              "      <td>0.682353</td>\n",
              "      <td>0.682353</td>\n",
              "      <td>0.682353</td>\n",
              "      <td>0.658824</td>\n",
              "      <td>0.682353</td>\n",
              "      <td>0.643137</td>\n",
              "      <td>0.627451</td>\n",
              "      <td>0.623529</td>\n",
              "      <td>0.650980</td>\n",
              "      <td>0.721569</td>\n",
              "      <td>0.627451</td>\n",
              "      <td>0.635294</td>\n",
              "      <td>0.709804</td>\n",
              "      <td>0.690196</td>\n",
              "      <td>0.678431</td>\n",
              "      <td>0.647059</td>\n",
              "      <td>0.658824</td>\n",
              "      <td>0.682353</td>\n",
              "      <td>0.654902</td>\n",
              "      <td>0.694118</td>\n",
              "      <td>0.741176</td>\n",
              "      <td>0.678431</td>\n",
              "      <td>0.662745</td>\n",
              "      <td>0.729412</td>\n",
              "      <td>0.694118</td>\n",
              "      <td>0.647059</td>\n",
              "      <td>0.682353</td>\n",
              "      <td>0.611765</td>\n",
              "      <td>0.650980</td>\n",
              "      <td>0.658824</td>\n",
              "      <td>0.600000</td>\n",
              "      <td>0.603922</td>\n",
              "      <td>0.654902</td>\n",
              "      <td>0.694118</td>\n",
              "      <td>0.658824</td>\n",
              "      <td>0.666667</td>\n",
              "    </tr>\n",
              "    <tr>\n",
              "      <th>1</th>\n",
              "      <td>0.725490</td>\n",
              "      <td>0.752941</td>\n",
              "      <td>0.749020</td>\n",
              "      <td>0.701961</td>\n",
              "      <td>0.690196</td>\n",
              "      <td>0.721569</td>\n",
              "      <td>0.709804</td>\n",
              "      <td>0.745098</td>\n",
              "      <td>0.654902</td>\n",
              "      <td>0.721569</td>\n",
              "      <td>0.678431</td>\n",
              "      <td>0.709804</td>\n",
              "      <td>0.713726</td>\n",
              "      <td>0.686275</td>\n",
              "      <td>0.717647</td>\n",
              "      <td>0.713726</td>\n",
              "      <td>0.694118</td>\n",
              "      <td>0.690196</td>\n",
              "      <td>0.721569</td>\n",
              "      <td>0.701961</td>\n",
              "      <td>0.698039</td>\n",
              "      <td>0.713726</td>\n",
              "      <td>0.705882</td>\n",
              "      <td>0.756863</td>\n",
              "      <td>0.756863</td>\n",
              "      <td>0.694118</td>\n",
              "      <td>0.650980</td>\n",
              "      <td>0.674510</td>\n",
              "      <td>0.752941</td>\n",
              "      <td>0.725490</td>\n",
              "      <td>0.725490</td>\n",
              "      <td>0.760784</td>\n",
              "      <td>0.678431</td>\n",
              "      <td>0.717647</td>\n",
              "      <td>0.725490</td>\n",
              "      <td>0.682353</td>\n",
              "      <td>0.709804</td>\n",
              "      <td>0.729412</td>\n",
              "      <td>0.721569</td>\n",
              "      <td>0.717647</td>\n",
              "      <td>...</td>\n",
              "      <td>0.686275</td>\n",
              "      <td>0.670588</td>\n",
              "      <td>0.713726</td>\n",
              "      <td>0.733333</td>\n",
              "      <td>0.725490</td>\n",
              "      <td>0.694118</td>\n",
              "      <td>0.694118</td>\n",
              "      <td>0.686275</td>\n",
              "      <td>0.674510</td>\n",
              "      <td>0.729412</td>\n",
              "      <td>0.721569</td>\n",
              "      <td>0.701961</td>\n",
              "      <td>0.682353</td>\n",
              "      <td>0.709804</td>\n",
              "      <td>0.756863</td>\n",
              "      <td>0.698039</td>\n",
              "      <td>0.729412</td>\n",
              "      <td>0.721569</td>\n",
              "      <td>0.674510</td>\n",
              "      <td>0.698039</td>\n",
              "      <td>0.725490</td>\n",
              "      <td>0.733333</td>\n",
              "      <td>0.666667</td>\n",
              "      <td>0.682353</td>\n",
              "      <td>0.701961</td>\n",
              "      <td>0.737255</td>\n",
              "      <td>0.745098</td>\n",
              "      <td>0.725490</td>\n",
              "      <td>0.698039</td>\n",
              "      <td>0.650980</td>\n",
              "      <td>0.721569</td>\n",
              "      <td>0.698039</td>\n",
              "      <td>0.721569</td>\n",
              "      <td>0.686275</td>\n",
              "      <td>0.713726</td>\n",
              "      <td>0.682353</td>\n",
              "      <td>0.690196</td>\n",
              "      <td>0.698039</td>\n",
              "      <td>0.701961</td>\n",
              "      <td>0.725490</td>\n",
              "    </tr>\n",
              "    <tr>\n",
              "      <th>2</th>\n",
              "      <td>0.717647</td>\n",
              "      <td>0.701961</td>\n",
              "      <td>0.713726</td>\n",
              "      <td>0.733333</td>\n",
              "      <td>0.705882</td>\n",
              "      <td>0.717647</td>\n",
              "      <td>0.725490</td>\n",
              "      <td>0.682353</td>\n",
              "      <td>0.717647</td>\n",
              "      <td>0.674510</td>\n",
              "      <td>0.690196</td>\n",
              "      <td>0.670588</td>\n",
              "      <td>0.662745</td>\n",
              "      <td>0.666667</td>\n",
              "      <td>0.713726</td>\n",
              "      <td>0.701961</td>\n",
              "      <td>0.721569</td>\n",
              "      <td>0.713726</td>\n",
              "      <td>0.662745</td>\n",
              "      <td>0.698039</td>\n",
              "      <td>0.682353</td>\n",
              "      <td>0.639216</td>\n",
              "      <td>0.717647</td>\n",
              "      <td>0.658824</td>\n",
              "      <td>0.674510</td>\n",
              "      <td>0.639216</td>\n",
              "      <td>0.643137</td>\n",
              "      <td>0.635294</td>\n",
              "      <td>0.654902</td>\n",
              "      <td>0.682353</td>\n",
              "      <td>0.639216</td>\n",
              "      <td>0.733333</td>\n",
              "      <td>0.690196</td>\n",
              "      <td>0.658824</td>\n",
              "      <td>0.686275</td>\n",
              "      <td>0.658824</td>\n",
              "      <td>0.690196</td>\n",
              "      <td>0.698039</td>\n",
              "      <td>0.709804</td>\n",
              "      <td>0.650980</td>\n",
              "      <td>...</td>\n",
              "      <td>0.533333</td>\n",
              "      <td>0.572549</td>\n",
              "      <td>0.537255</td>\n",
              "      <td>0.549020</td>\n",
              "      <td>0.670588</td>\n",
              "      <td>0.690196</td>\n",
              "      <td>0.670588</td>\n",
              "      <td>0.643137</td>\n",
              "      <td>0.662745</td>\n",
              "      <td>0.713726</td>\n",
              "      <td>0.717647</td>\n",
              "      <td>0.721569</td>\n",
              "      <td>0.709804</td>\n",
              "      <td>0.674510</td>\n",
              "      <td>0.709804</td>\n",
              "      <td>0.686275</td>\n",
              "      <td>0.658824</td>\n",
              "      <td>0.694118</td>\n",
              "      <td>0.698039</td>\n",
              "      <td>0.694118</td>\n",
              "      <td>0.678431</td>\n",
              "      <td>0.678431</td>\n",
              "      <td>0.690196</td>\n",
              "      <td>0.662745</td>\n",
              "      <td>0.650980</td>\n",
              "      <td>0.650980</td>\n",
              "      <td>0.686275</td>\n",
              "      <td>0.631373</td>\n",
              "      <td>0.666667</td>\n",
              "      <td>0.701961</td>\n",
              "      <td>0.709804</td>\n",
              "      <td>0.694118</td>\n",
              "      <td>0.705882</td>\n",
              "      <td>0.682353</td>\n",
              "      <td>0.639216</td>\n",
              "      <td>0.713726</td>\n",
              "      <td>0.670588</td>\n",
              "      <td>0.678431</td>\n",
              "      <td>0.737255</td>\n",
              "      <td>0.674510</td>\n",
              "    </tr>\n",
              "    <tr>\n",
              "      <th>3</th>\n",
              "      <td>0.705882</td>\n",
              "      <td>0.674510</td>\n",
              "      <td>0.654902</td>\n",
              "      <td>0.678431</td>\n",
              "      <td>0.666667</td>\n",
              "      <td>0.662745</td>\n",
              "      <td>0.678431</td>\n",
              "      <td>0.662745</td>\n",
              "      <td>0.686275</td>\n",
              "      <td>0.686275</td>\n",
              "      <td>0.631373</td>\n",
              "      <td>0.650980</td>\n",
              "      <td>0.670588</td>\n",
              "      <td>0.737255</td>\n",
              "      <td>0.674510</td>\n",
              "      <td>0.615686</td>\n",
              "      <td>0.670588</td>\n",
              "      <td>0.705882</td>\n",
              "      <td>0.686275</td>\n",
              "      <td>0.678431</td>\n",
              "      <td>0.694118</td>\n",
              "      <td>0.647059</td>\n",
              "      <td>0.662745</td>\n",
              "      <td>0.682353</td>\n",
              "      <td>0.654902</td>\n",
              "      <td>0.721569</td>\n",
              "      <td>0.709804</td>\n",
              "      <td>0.631373</td>\n",
              "      <td>0.670588</td>\n",
              "      <td>0.674510</td>\n",
              "      <td>0.701961</td>\n",
              "      <td>0.725490</td>\n",
              "      <td>0.666667</td>\n",
              "      <td>0.647059</td>\n",
              "      <td>0.733333</td>\n",
              "      <td>0.682353</td>\n",
              "      <td>0.678431</td>\n",
              "      <td>0.603922</td>\n",
              "      <td>0.666667</td>\n",
              "      <td>0.713726</td>\n",
              "      <td>...</td>\n",
              "      <td>0.670588</td>\n",
              "      <td>0.705882</td>\n",
              "      <td>0.749020</td>\n",
              "      <td>0.662745</td>\n",
              "      <td>0.564706</td>\n",
              "      <td>0.623529</td>\n",
              "      <td>0.674510</td>\n",
              "      <td>0.709804</td>\n",
              "      <td>0.658824</td>\n",
              "      <td>0.631373</td>\n",
              "      <td>0.705882</td>\n",
              "      <td>0.670588</td>\n",
              "      <td>0.658824</td>\n",
              "      <td>0.690196</td>\n",
              "      <td>0.674510</td>\n",
              "      <td>0.658824</td>\n",
              "      <td>0.635294</td>\n",
              "      <td>0.682353</td>\n",
              "      <td>0.682353</td>\n",
              "      <td>0.639216</td>\n",
              "      <td>0.666667</td>\n",
              "      <td>0.654902</td>\n",
              "      <td>0.647059</td>\n",
              "      <td>0.670588</td>\n",
              "      <td>0.682353</td>\n",
              "      <td>0.639216</td>\n",
              "      <td>0.705882</td>\n",
              "      <td>0.729412</td>\n",
              "      <td>0.674510</td>\n",
              "      <td>0.666667</td>\n",
              "      <td>0.639216</td>\n",
              "      <td>0.662745</td>\n",
              "      <td>0.631373</td>\n",
              "      <td>0.643137</td>\n",
              "      <td>0.705882</td>\n",
              "      <td>0.662745</td>\n",
              "      <td>0.705882</td>\n",
              "      <td>0.666667</td>\n",
              "      <td>0.654902</td>\n",
              "      <td>0.631373</td>\n",
              "    </tr>\n",
              "    <tr>\n",
              "      <th>4</th>\n",
              "      <td>0.647059</td>\n",
              "      <td>0.729412</td>\n",
              "      <td>0.701961</td>\n",
              "      <td>0.674510</td>\n",
              "      <td>0.611765</td>\n",
              "      <td>0.698039</td>\n",
              "      <td>0.713726</td>\n",
              "      <td>0.662745</td>\n",
              "      <td>0.701961</td>\n",
              "      <td>0.674510</td>\n",
              "      <td>0.631373</td>\n",
              "      <td>0.709804</td>\n",
              "      <td>0.694118</td>\n",
              "      <td>0.698039</td>\n",
              "      <td>0.666667</td>\n",
              "      <td>0.690196</td>\n",
              "      <td>0.690196</td>\n",
              "      <td>0.682353</td>\n",
              "      <td>0.682353</td>\n",
              "      <td>0.647059</td>\n",
              "      <td>0.678431</td>\n",
              "      <td>0.658824</td>\n",
              "      <td>0.760784</td>\n",
              "      <td>0.729412</td>\n",
              "      <td>0.674510</td>\n",
              "      <td>0.694118</td>\n",
              "      <td>0.698039</td>\n",
              "      <td>0.713726</td>\n",
              "      <td>0.690196</td>\n",
              "      <td>0.698039</td>\n",
              "      <td>0.686275</td>\n",
              "      <td>0.705882</td>\n",
              "      <td>0.662745</td>\n",
              "      <td>0.670588</td>\n",
              "      <td>0.705882</td>\n",
              "      <td>0.682353</td>\n",
              "      <td>0.690196</td>\n",
              "      <td>0.733333</td>\n",
              "      <td>0.709804</td>\n",
              "      <td>0.701961</td>\n",
              "      <td>...</td>\n",
              "      <td>0.639216</td>\n",
              "      <td>0.690196</td>\n",
              "      <td>0.662745</td>\n",
              "      <td>0.658824</td>\n",
              "      <td>0.662745</td>\n",
              "      <td>0.698039</td>\n",
              "      <td>0.603922</td>\n",
              "      <td>0.690196</td>\n",
              "      <td>0.627451</td>\n",
              "      <td>0.627451</td>\n",
              "      <td>0.654902</td>\n",
              "      <td>0.725490</td>\n",
              "      <td>0.650980</td>\n",
              "      <td>0.717647</td>\n",
              "      <td>0.666667</td>\n",
              "      <td>0.709804</td>\n",
              "      <td>0.682353</td>\n",
              "      <td>0.674510</td>\n",
              "      <td>0.721569</td>\n",
              "      <td>0.741176</td>\n",
              "      <td>0.635294</td>\n",
              "      <td>0.615686</td>\n",
              "      <td>0.674510</td>\n",
              "      <td>0.690196</td>\n",
              "      <td>0.658824</td>\n",
              "      <td>0.694118</td>\n",
              "      <td>0.701961</td>\n",
              "      <td>0.670588</td>\n",
              "      <td>0.721569</td>\n",
              "      <td>0.780392</td>\n",
              "      <td>0.639216</td>\n",
              "      <td>0.670588</td>\n",
              "      <td>0.705882</td>\n",
              "      <td>0.674510</td>\n",
              "      <td>0.721569</td>\n",
              "      <td>0.694118</td>\n",
              "      <td>0.674510</td>\n",
              "      <td>0.705882</td>\n",
              "      <td>0.749020</td>\n",
              "      <td>0.729412</td>\n",
              "    </tr>\n",
              "  </tbody>\n",
              "</table>\n",
              "<p>5 rows × 8192 columns</p>\n",
              "</div>"
            ],
            "text/plain": [
              "       0         1         2     ...      8189      8190      8191\n",
              "0  0.631373  0.623529  0.713726  ...  0.694118  0.658824  0.666667\n",
              "1  0.725490  0.752941  0.749020  ...  0.698039  0.701961  0.725490\n",
              "2  0.717647  0.701961  0.713726  ...  0.678431  0.737255  0.674510\n",
              "3  0.705882  0.674510  0.654902  ...  0.666667  0.654902  0.631373\n",
              "4  0.647059  0.729412  0.701961  ...  0.705882  0.749020  0.729412\n",
              "\n",
              "[5 rows x 8192 columns]"
            ]
          },
          "metadata": {
            "tags": []
          },
          "execution_count": 20
        }
      ]
    },
    {
      "cell_type": "code",
      "metadata": {
        "id": "BCQy-0ZsEgfa",
        "colab_type": "code",
        "colab": {
          "base_uri": "https://localhost:8080/",
          "height": 85
        },
        "outputId": "bbc3d817-2e6c-42c5-d49a-b57b6d99ff89"
      },
      "source": [
        "print('number of samples with label Squiggle: ', int(train_labels['Squiggle'].sum()))\n",
        "print('number of samples with label Narrow-band: ', int(train_labels['Narrow-band'].sum()))\n",
        "print('number of samples with label Noise: ', int(train_labels['Noise'].sum()))\n",
        "print('number of samples with label Narrow-band-drd: ', int(train_labels['Narrow-band-drd'].sum()))"
      ],
      "execution_count": 76,
      "outputs": [
        {
          "output_type": "stream",
          "text": [
            "number of samples with label Squiggle:  800\n",
            "number of samples with label Narrow-band:  800\n",
            "number of samples with label Noise:  800\n",
            "number of samples with label Narrow-band-drd:  800\n"
          ],
          "name": "stdout"
        }
      ]
    },
    {
      "cell_type": "markdown",
      "metadata": {
        "id": "AUF1XVWXu4RD",
        "colab_type": "text"
      },
      "source": [
        "We can see that the data is balanced equally between the classes"
      ]
    },
    {
      "cell_type": "code",
      "metadata": {
        "id": "DfJSg_p8Egh4",
        "colab_type": "code",
        "colab": {
          "base_uri": "https://localhost:8080/",
          "height": 51
        },
        "outputId": "1e94e9df-b1a1-478e-f87d-4db7598ccd4c"
      },
      "source": [
        "print(\"Training set shape:\", train_images.shape, train_labels.shape)\n",
        "print(\"Validation set shape:\", val_images.shape, val_labels.shape)"
      ],
      "execution_count": 22,
      "outputs": [
        {
          "output_type": "stream",
          "text": [
            "Training set shape: (3200, 8192) (3200, 4)\n",
            "Validation set shape: (800, 8192) (800, 4)\n"
          ],
          "name": "stdout"
        }
      ]
    },
    {
      "cell_type": "markdown",
      "metadata": {
        "id": "6J8Hhw0HmET5",
        "colab_type": "text"
      },
      "source": [
        "The images are rendered in a single row, so now we reshape each row from train_images and val_images as a vector  with the dimensions 64 x 128 (representing the width and height of the image). For this is used the reshape function from pandas, and the set are renamed as **x** for the features an **y** for the target.\n",
        "\n",
        "Also, we converted the data frames into the array format(.values) because our neural network can’t take in the DataFrame format and our image classifier wants the data to be in that specific format which was achieved after reshaping."
      ]
    },
    {
      "cell_type": "code",
      "metadata": {
        "id": "FJGhlNb2Egj7",
        "colab_type": "code",
        "colab": {}
      },
      "source": [
        "x_train = train_images.values.reshape(3200, 64, 128, 1)\n",
        "x_val = val_images.values.reshape(800, 64, 128, 1)\n",
        "\n",
        "y_train = train_labels.values\n",
        "y_val = val_labels.values"
      ],
      "execution_count": 97,
      "outputs": []
    },
    {
      "cell_type": "markdown",
      "metadata": {
        "id": "pAC1DPXrF8oS",
        "colab_type": "text"
      },
      "source": [
        "## Plot 2D Spectrograms"
      ]
    },
    {
      "cell_type": "markdown",
      "metadata": {
        "id": "z5YuJxiHq0_N",
        "colab_type": "text"
      },
      "source": [
        "With matplotlib we plot four spectrograms randomly in 2D graph"
      ]
    },
    {
      "cell_type": "code",
      "metadata": {
        "id": "PTOmtFOaEgpN",
        "colab_type": "code",
        "colab": {
          "base_uri": "https://localhost:8080/",
          "height": 123
        },
        "outputId": "243b1229-3da3-44be-9f06-366980f04c3f"
      },
      "source": [
        "plt.figure(0, figsize=(12,12))\n",
        "for i in range(1,5):\n",
        "    plt.subplot(1,4,i)\n",
        "    r = np.random.randint(0, x_train.shape[0])\n",
        "    img = np.squeeze(x_train[r])\n",
        "    plt.xticks([])\n",
        "    plt.yticks([])\n",
        "    plt.title(y_train[r])\n",
        "    plt.imshow(img,cmap=\"gist_earth_r\")"
      ],
      "execution_count": 79,
      "outputs": [
        {
          "output_type": "display_data",
          "data": {
            "image/png": "[encoded data removed]",
            "text/plain": [
              "<Figure size 864x864 with 4 Axes>"
            ]
          },
          "metadata": {
            "tags": []
          }
        }
      ]
    },
    {
      "cell_type": "markdown",
      "metadata": {
        "id": "jqJJhvGkGqz1",
        "colab_type": "text"
      },
      "source": [
        "## Create Training and Validation Data Generators"
      ]
    },
    {
      "cell_type": "code",
      "metadata": {
        "id": "tP6I_MnnGwW-",
        "colab_type": "code",
        "colab": {}
      },
      "source": [
        "from tensorflow.keras.preprocessing.image import ImageDataGenerator\n",
        "\n",
        "datagen_train = ImageDataGenerator(horizontal_flip=True)\n",
        "datagen_train.fit(x_train)\n",
        "\n",
        "datagen_val = ImageDataGenerator(horizontal_flip=True)\n",
        "datagen_val.fit(x_val)"
      ],
      "execution_count": 94,
      "outputs": []
    },
    {
      "cell_type": "markdown",
      "metadata": {
        "id": "FSMg2a22xgjb",
        "colab_type": "text"
      },
      "source": [
        "We will use the TensorFLow ImageDataGenerator function. This feature generates batches of tensor image data with real-time data augmentation. The horizontal_flip argument flip inputs horizontally at random."
      ]
    },
    {
      "cell_type": "markdown",
      "metadata": {
        "id": "-UEvdu2bHKEQ",
        "colab_type": "text"
      },
      "source": [
        "## Creating the CNN Model"
      ]
    },
    {
      "cell_type": "markdown",
      "metadata": {
        "id": "EAwnn-y3zOJ6",
        "colab_type": "text"
      },
      "source": [
        "The model that we will use to classify the images is a type of artificial supervised neural network called **Convolutional Neural Network** (CNN).\n",
        "\n",
        "As, its application is done in two-dimensional matrices, they are effective to perform image classification tasks.\n",
        "\n",
        "\n",
        "This network processes its layers imitating the visual cortex of the human eye to identify different characteristics at the entrances that ultimately make it able to identify objects and \"see.\" For this, CNN contains several specialized hidden layers with a hierarchy: this means that the first layers can detect lines, curves and specialize until they reach deeper layers that recognize complex shapes such as a face or the silhouette of an animal .\n",
        "\n",
        "The network for CNN has multiple layers such as convolution layers, maxpool layers for down-sampling, dropout for regularization, and all these layers followed by one or more fully-connected layers at the end. So at each layer, a small neuron process portion of input images and output of these collections are then tiled so that the input region overlap to obtain a high-resolution representation of the input image, and this process is repeated for every such layer.\n",
        "\n"
      ]
    },
    {
      "cell_type": "markdown",
      "metadata": {
        "id": "GM1OpMs3yxMM",
        "colab_type": "text"
      },
      "source": [
        "We import the necessary libraries fom **Keras** for the model."
      ]
    },
    {
      "cell_type": "code",
      "metadata": {
        "id": "tqpC-6NQGwrQ",
        "colab_type": "code",
        "colab": {}
      },
      "source": [
        "from tensorflow.keras.layers import Dense, Input, Dropout,Flatten, Conv2D\n",
        "from tensorflow.keras.layers import BatchNormalization, Activation, MaxPooling2D\n",
        "\n",
        "from tensorflow.keras.models import Model, Sequential\n",
        "from tensorflow.keras.optimizers import Adam, SGD\n",
        "from tensorflow.keras.callbacks import ModelCheckpoint, ReduceLROnPlateau\n",
        "from tensorflow.keras.utils import plot_model"
      ],
      "execution_count": 103,
      "outputs": []
    },
    {
      "cell_type": "markdown",
      "metadata": {
        "id": "EDnGiEkf2UhB",
        "colab_type": "text"
      },
      "source": [
        "We will use a neural network with two convolution layers, the first with the filter 32 and second with filter 64, this filters means the number of output filters in the convolution. The kernel size for both layers are (5,5), the activation functior are relu and we use max pooling (2,2)"
      ]
    },
    {
      "cell_type": "code",
      "metadata": {
        "id": "h5dB9u7nHqG0",
        "colab_type": "code",
        "colab": {}
      },
      "source": [
        "# Initialising the CNN\n",
        "model = Sequential()\n",
        "\n",
        "# 1st Convolution\n",
        "model.add(Conv2D(32,(5,5), padding='same', input_shape=(64, 128,1)))\n",
        "model.add(BatchNormalization())\n",
        "model.add(Activation('relu'))\n",
        "model.add(MaxPooling2D(pool_size=(2, 2)))\n",
        "model.add(Dropout(0.25))\n",
        "\n",
        "# 2nd Convolution layer\n",
        "model.add(Conv2D(64,(5,5), padding='same'))\n",
        "model.add(BatchNormalization())\n",
        "model.add(Activation('relu'))\n",
        "model.add(MaxPooling2D(pool_size=(2, 2)))\n",
        "model.add(Dropout(0.25))\n",
        "\n",
        "# Flattening\n",
        "model.add(Flatten())\n",
        "\n",
        "# Fully connected layer\n",
        "model.add(Dense(1024))\n",
        "model.add(BatchNormalization())\n",
        "model.add(Activation('relu'))\n",
        "model.add(Dropout(0.4))\n",
        "\n",
        "model.add(Dense(4, activation='softmax'))"
      ],
      "execution_count": 82,
      "outputs": []
    },
    {
      "cell_type": "markdown",
      "metadata": {
        "id": "LmXdhu-6H7Q5",
        "colab_type": "text"
      },
      "source": [
        "## Learning Rate Scheduling and Compile the Model"
      ]
    },
    {
      "cell_type": "code",
      "metadata": {
        "id": "JNEKTceqGwuX",
        "colab_type": "code",
        "colab": {}
      },
      "source": [
        "initial_learning_rate = 0.005\n",
        "lr_schedule = tf.keras.optimizers.schedules.ExponentialDecay(\n",
        "    initial_learning_rate,\n",
        "    decay_steps=5,\n",
        "    decay_rate=0.96,\n",
        "    staircase=True)\n",
        "\n",
        "optimizer = Adam(learning_rate=lr_schedule)"
      ],
      "execution_count": 83,
      "outputs": []
    },
    {
      "cell_type": "markdown",
      "metadata": {
        "id": "LQ_0lf1e4k3R",
        "colab_type": "text"
      },
      "source": [
        "This will keep decreasing the learning rate like 0.005 x (0.96 5) = 0.004076 after each step."
      ]
    },
    {
      "cell_type": "code",
      "metadata": {
        "id": "IZi5V0W7GwxL",
        "colab_type": "code",
        "colab": {
          "base_uri": "https://localhost:8080/",
          "height": 697
        },
        "outputId": "66df7af8-1f4a-4c06-c072-ec2840fa9e53"
      },
      "source": [
        "model.compile(optimizer=optimizer, loss='categorical_crossentropy', metrics=['accuracy'])\n",
        "model.summary()"
      ],
      "execution_count": 95,
      "outputs": [
        {
          "output_type": "stream",
          "text": [
            "Model: \"sequential\"\n",
            "_________________________________________________________________\n",
            "Layer (type)                 Output Shape              Param #   \n",
            "=================================================================\n",
            "conv2d (Conv2D)              (None, 64, 128, 32)       832       \n",
            "_________________________________________________________________\n",
            "batch_normalization (BatchNo (None, 64, 128, 32)       128       \n",
            "_________________________________________________________________\n",
            "activation (Activation)      (None, 64, 128, 32)       0         \n",
            "_________________________________________________________________\n",
            "max_pooling2d (MaxPooling2D) (None, 32, 64, 32)        0         \n",
            "_________________________________________________________________\n",
            "dropout (Dropout)            (None, 32, 64, 32)        0         \n",
            "_________________________________________________________________\n",
            "conv2d_1 (Conv2D)            (None, 32, 64, 64)        51264     \n",
            "_________________________________________________________________\n",
            "batch_normalization_1 (Batch (None, 32, 64, 64)        256       \n",
            "_________________________________________________________________\n",
            "activation_1 (Activation)    (None, 32, 64, 64)        0         \n",
            "_________________________________________________________________\n",
            "max_pooling2d_1 (MaxPooling2 (None, 16, 32, 64)        0         \n",
            "_________________________________________________________________\n",
            "dropout_1 (Dropout)          (None, 16, 32, 64)        0         \n",
            "_________________________________________________________________\n",
            "flatten (Flatten)            (None, 32768)             0         \n",
            "_________________________________________________________________\n",
            "dense (Dense)                (None, 1024)              33555456  \n",
            "_________________________________________________________________\n",
            "batch_normalization_2 (Batch (None, 1024)              4096      \n",
            "_________________________________________________________________\n",
            "activation_2 (Activation)    (None, 1024)              0         \n",
            "_________________________________________________________________\n",
            "dropout_2 (Dropout)          (None, 1024)              0         \n",
            "_________________________________________________________________\n",
            "dense_1 (Dense)              (None, 4)                 4100      \n",
            "=================================================================\n",
            "Total params: 33,616,132\n",
            "Trainable params: 33,613,892\n",
            "Non-trainable params: 2,240\n",
            "_________________________________________________________________\n"
          ],
          "name": "stdout"
        }
      ]
    },
    {
      "cell_type": "markdown",
      "metadata": {
        "id": "tfqcUL6DIKDR",
        "colab_type": "text"
      },
      "source": [
        "## Training the Model"
      ]
    },
    {
      "cell_type": "code",
      "metadata": {
        "id": "1fuvoWEXIQfZ",
        "colab_type": "code",
        "colab": {
          "base_uri": "https://localhost:8080/",
          "height": 445
        },
        "outputId": "000982d7-3cc9-48a4-eb96-9eedf8b09f22"
      },
      "source": [
        "checkpoint = ModelCheckpoint(\"model_weights.h5\", monitor='val_loss',\n",
        "                             save_weights_only=True, mode='min', verbose=0)\n",
        "callbacks = [checkpoint]#, reduce_lr]\n",
        "batch_size = 32\n",
        "history = model.fit(\n",
        "    datagen_train.flow(x_train, y_train, batch_size=batch_size, shuffle=True),\n",
        "    steps_per_epoch=len(x_train)//batch_size,\n",
        "    validation_data = datagen_val.flow(x_val, y_val, batch_size=batch_size, shuffle=True),\n",
        "    validation_steps = len(x_val)//batch_size,\n",
        "    epochs=12,\n",
        "    callbacks=callbacks\n",
        ")"
      ],
      "execution_count": 105,
      "outputs": [
        {
          "output_type": "stream",
          "text": [
            "Epoch 1/12\n",
            "100/100 [==============================] - 118s 1s/step - loss: 0.5580 - accuracy: 0.7003 - val_loss: 3.5912 - val_accuracy: 0.2500\n",
            "Epoch 2/12\n",
            "100/100 [==============================] - 121s 1s/step - loss: 0.4019 - accuracy: 0.7553 - val_loss: 4.3698 - val_accuracy: 0.2500\n",
            "Epoch 3/12\n",
            "100/100 [==============================] - 117s 1s/step - loss: 0.3857 - accuracy: 0.7475 - val_loss: 4.8636 - val_accuracy: 0.2500\n",
            "Epoch 4/12\n",
            "100/100 [==============================] - 117s 1s/step - loss: 0.3828 - accuracy: 0.7450 - val_loss: 4.1058 - val_accuracy: 0.2500\n",
            "Epoch 5/12\n",
            "100/100 [==============================] - 117s 1s/step - loss: 0.3740 - accuracy: 0.7531 - val_loss: 3.4121 - val_accuracy: 0.4338\n",
            "Epoch 6/12\n",
            "100/100 [==============================] - 117s 1s/step - loss: 0.3707 - accuracy: 0.7559 - val_loss: 1.8662 - val_accuracy: 0.4950\n",
            "Epoch 7/12\n",
            "100/100 [==============================] - 120s 1s/step - loss: 0.3637 - accuracy: 0.7597 - val_loss: 0.4029 - val_accuracy: 0.7412\n",
            "Epoch 8/12\n",
            "100/100 [==============================] - 117s 1s/step - loss: 0.3728 - accuracy: 0.7462 - val_loss: 0.3702 - val_accuracy: 0.7538\n",
            "Epoch 9/12\n",
            "100/100 [==============================] - 117s 1s/step - loss: 0.3683 - accuracy: 0.7669 - val_loss: 0.3760 - val_accuracy: 0.7462\n",
            "Epoch 10/12\n",
            "100/100 [==============================] - 116s 1s/step - loss: 0.3751 - accuracy: 0.7484 - val_loss: 0.3674 - val_accuracy: 0.7588\n",
            "Epoch 11/12\n",
            "100/100 [==============================] - 116s 1s/step - loss: 0.3732 - accuracy: 0.7566 - val_loss: 0.3651 - val_accuracy: 0.7525\n",
            "Epoch 12/12\n",
            "100/100 [==============================] - 118s 1s/step - loss: 0.3675 - accuracy: 0.7600 - val_loss: 0.3651 - val_accuracy: 0.7563\n"
          ],
          "name": "stdout"
        }
      ]
    },
    {
      "cell_type": "markdown",
      "metadata": {
        "id": "Out7Wpj_Ic-g",
        "colab_type": "text"
      },
      "source": [
        "## Model Evaluation"
      ]
    },
    {
      "cell_type": "code",
      "metadata": {
        "id": "MJTxGMVEIdlp",
        "colab_type": "code",
        "colab": {
          "base_uri": "https://localhost:8080/",
          "height": 51
        },
        "outputId": "ce91677f-a773-4a4f-badc-e7ac05fcf8c5"
      },
      "source": [
        "model.evaluate(x_val, y_val)"
      ],
      "execution_count": 106,
      "outputs": [
        {
          "output_type": "stream",
          "text": [
            "25/25 [==============================] - 5s 200ms/step - loss: 0.3661 - accuracy: 0.7513\n"
          ],
          "name": "stdout"
        },
        {
          "output_type": "execute_result",
          "data": {
            "text/plain": [
              "[0.36607760190963745, 0.7512500286102295]"
            ]
          },
          "metadata": {
            "tags": []
          },
          "execution_count": 106
        }
      ]
    },
    {
      "cell_type": "code",
      "metadata": {
        "id": "LmgNzJFYIdos",
        "colab_type": "code",
        "colab": {
          "base_uri": "https://localhost:8080/",
          "height": 221
        },
        "outputId": "bd7d98ad-9b12-426b-afde-fca4e1d33b51"
      },
      "source": [
        "from sklearn.metrics import confusion_matrix\n",
        "from sklearn import metrics\n",
        "import seaborn as sns\n",
        "\n",
        "y_true = np.argmax(y_val, 1)\n",
        "y_pred = np.argmax(model.predict(x_val), 1)\n",
        "print(metrics.classification_report(y_true, y_pred))\n",
        "print(\"Classification accuracy: %0.6f\" % metrics.accuracy_score(y_true, y_pred))"
      ],
      "execution_count": 107,
      "outputs": [
        {
          "output_type": "stream",
          "text": [
            "              precision    recall  f1-score   support\n",
            "\n",
            "           0       1.00      0.98      0.99       200\n",
            "           1       0.51      0.24      0.33       200\n",
            "           2       0.50      0.78      0.61       200\n",
            "           3       1.00      1.00      1.00       200\n",
            "\n",
            "    accuracy                           0.75       800\n",
            "   macro avg       0.75      0.75      0.73       800\n",
            "weighted avg       0.75      0.75      0.73       800\n",
            "\n",
            "Classification accuracy: 0.751250\n"
          ],
          "name": "stdout"
        }
      ]
    },
    {
      "cell_type": "code",
      "metadata": {
        "id": "yxaqITweIdr5",
        "colab_type": "code",
        "colab": {
          "base_uri": "https://localhost:8080/",
          "height": 310
        },
        "outputId": "0869e2b5-0535-4967-fca4-c89e7d1b3edc"
      },
      "source": [
        "labels = [\"squiggle\", \"narrowband\", \"noise\", \"narrowbanddrd\"]\n",
        "\n",
        "ax= plt.subplot()\n",
        "sns.heatmap(metrics.confusion_matrix(y_true, y_pred, normalize='true'), annot=True, ax = ax, cmap=plt.cm.Blues); #annot=True to annotate cells\n",
        "\n",
        "# labels, title and ticks\n",
        "ax.set_title('Confusion Matrix'); \n",
        "ax.xaxis.set_ticklabels(labels); ax.yaxis.set_ticklabels(labels);"
      ],
      "execution_count": 108,
      "outputs": [
        {
          "output_type": "display_data",
          "data": {
            "image/png": "[encoded data removed]",
            "text/plain": [
              "<Figure size 432x288 with 2 Axes>"
            ]
          },
          "metadata": {
            "tags": [],
            "needs_background": "light"
          }
        }
      ]
    }
  ]
}